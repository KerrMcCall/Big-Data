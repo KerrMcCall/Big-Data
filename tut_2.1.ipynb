{
 "cells": [
  {
   "cell_type": "code",
   "execution_count": 1,
   "metadata": {},
   "outputs": [
    {
     "name": "stdout",
     "output_type": "stream",
     "text": [
      "Cold\n"
     ]
    }
   ],
   "source": [
    "temp = input(\"Enter the temperature in Celsius: \")\n",
    "temp = float(temp)\n",
    "if temp < 0:\n",
    "    print(\"It's Freezing\")\n",
    "elif temp < 10:\n",
    "    print(\"Very Cold\")\n",
    "elif temp < 20:\n",
    "    print(\"Cold\")\n",
    "elif temp < 30:\n",
    "    print(\"Normal\")\n",
    "elif temp < 40:\n",
    "    print(\"Hot\")\n",
    "else:\n",
    "    print(\"Very Hot\")\n"
   ]
  },
  {
   "cell_type": "code",
   "execution_count": 2,
   "metadata": {},
   "outputs": [
    {
     "name": "stdout",
     "output_type": "stream",
     "text": [
      "Generated DataFrame:\n",
      "       Col1      Col2      Col3      Col4\n",
      "A  0.496714 -0.138264  0.647689  1.523030\n",
      "B -0.234153 -0.234137  1.579213  0.767435\n",
      "C -0.469474  0.542560 -0.463418 -0.465730\n",
      "D  0.241962 -1.913280 -1.724918 -0.562288\n",
      "E -1.012831  0.314247 -0.908024 -1.412304\n",
      "\n",
      "Shape of the DataFrame:\n",
      "(5, 4)\n",
      "\n",
      "Summary Statistics:\n",
      "           Col1      Col2      Col3      Col4\n",
      "count  5.000000  5.000000  5.000000  5.000000\n",
      "mean  -0.195556 -0.285775 -0.173892 -0.029971\n",
      "std    0.594794  0.964283  1.301617  1.165307\n",
      "min   -1.012831 -1.913280 -1.724918 -1.412304\n",
      "25%   -0.469474 -0.234137 -0.908024 -0.562288\n",
      "50%   -0.234153 -0.138264 -0.463418 -0.465730\n",
      "75%    0.241962  0.314247  0.647689  0.767435\n",
      "max    0.496714  0.542560  1.579213  1.523030\n"
     ]
    },
    {
     "data": {
      "image/png": "[encoded data removed]",
      "text/plain": [
       "<Figure size 1200x600 with 1 Axes>"
      ]
     },
     "metadata": {},
     "output_type": "display_data"
    }
   ],
   "source": [
    "import pandas as pd\n",
    "import numpy as np\n",
    "import seaborn as sns\n",
    "import matplotlib.pyplot as plt\n",
    "\n",
    "# Function to generate a DataFrame with random numbers\n",
    "def generate_random_dataframe(rows=5, cols=4, seed=None):\n",
    "    \"\"\"\n",
    "    Generates a Pandas DataFrame with the specified number of rows and columns,\n",
    "    filled with random numbers. It assigns custom row and column labels.\n",
    "    \n",
    "    Parameters:\n",
    "    rows (int): Number of rows in the DataFrame (default is 5)\n",
    "    cols (int): Number of columns in the DataFrame (default is 4)\n",
    "    seed (int, optional): Random seed for reproducibility\n",
    "    \n",
    "    Returns:\n",
    "    pd.DataFrame: DataFrame populated with random numbers\n",
    "    \"\"\"\n",
    "    if seed is not None:\n",
    "        np.random.seed(seed)  # Ensure reproducibility\n",
    "    \n",
    "    # Generate random data\n",
    "    data = np.random.randn(rows, cols)  # Normally distributed random numbers\n",
    "    \n",
    "    # Generate column names (Col1, Col2, ... ColN)\n",
    "    column_names = [f\"Col{i+1}\" for i in range(cols)]\n",
    "    \n",
    "    # Generate row labels (A, B, C, ...)\n",
    "    row_labels = [chr(65 + i) for i in range(rows)]  # ASCII uppercase letters\n",
    "    \n",
    "    # Create DataFrame\n",
    "    df = pd.DataFrame(data, index=row_labels, columns=column_names)\n",
    "    return df\n",
    "\n",
    "# Generate DataFrame with default settings\n",
    "df = generate_random_dataframe(seed=42)\n",
    "\n",
    "# Display DataFrame\n",
    "print(\"Generated DataFrame:\")\n",
    "print(df)\n",
    "\n",
    "# Display DataFrame shape\n",
    "print(\"\\nShape of the DataFrame:\")\n",
    "print(df.shape)\n",
    "\n",
    "# Display summary statistics\n",
    "print(\"\\nSummary Statistics:\")\n",
    "print(df.describe())\n",
    "\n",
    "# Data Validation\n",
    "assert not df.isnull().values.any(), \"DataFrame contains NaN values!\"\n",
    "assert df.shape[0] > 0 and df.shape[1] > 0, \"DataFrame should not be empty!\"\n",
    "assert isinstance(df, pd.DataFrame), \"Generated object is not a Pandas DataFrame!\"\n",
    "\n",
    "# Load Iris dataset from Seaborn\n",
    "iris = sns.load_dataset(\"iris\")\n",
    "\n",
    "# Generate boxplots for each numerical column\n",
    "plt.figure(figsize=(12, 6))\n",
    "iris.boxplot()\n",
    "plt.title(\"Boxplot of Numerical Features in the Iris Dataset\")\n",
    "plt.show()\n"
   ]
  },
  {
   "cell_type": "code",
   "execution_count": 3,
   "metadata": {},
   "outputs": [
    {
     "name": "stdout",
     "output_type": "stream",
     "text": [
      "I like apple\n",
      "I like banana\n",
      "I like cherry\n"
     ]
    }
   ],
   "source": [
    "fruits = [\"apple\", \"banana\", \"cherry\"]\n",
    "for x in fruits:\n",
    "  print(\"I like\", x)"
   ]
  },
  {
   "cell_type": "code",
   "execution_count": 4,
   "metadata": {},
   "outputs": [
    {
     "name": "stdout",
     "output_type": "stream",
     "text": [
      "number: 1\n",
      "number: 2\n",
      "number: 3\n",
      "number: 4\n",
      "number: 5\n"
     ]
    }
   ],
   "source": [
    "for n in range(1, 6):\n",
    "    print(\"number:\", n)"
   ]
  },
  {
   "cell_type": "code",
   "execution_count": 5,
   "metadata": {},
   "outputs": [
    {
     "name": "stdout",
     "output_type": "stream",
     "text": [
      "o o o o o\n",
      "o o o o o\n",
      "o o o o o\n",
      "o o o o o\n"
     ]
    }
   ],
   "source": [
    "for i in range(1,5):\n",
    "    print(\"o o o o o\")\n",
    "    "
   ]
  },
  {
   "cell_type": "code",
   "execution_count": 6,
   "metadata": {},
   "outputs": [
    {
     "name": "stdout",
     "output_type": "stream",
     "text": [
      "o o o o o \n",
      "o o o o o \n",
      "o o o o o \n",
      "o o o o o \n",
      "o o o o o \n"
     ]
    }
   ],
   "source": [
    "n = 5\n",
    "for i in range(n):\n",
    "    for j in range(n):\n",
    "        print(\"o\", end=\" \")\n",
    "    print()\n",
    "\n",
    "    "
   ]
  },
  {
   "cell_type": "code",
   "execution_count": 7,
   "metadata": {},
   "outputs": [
    {
     "name": "stdout",
     "output_type": "stream",
     "text": [
      "o \n",
      "o o \n",
      "o o o \n",
      "o o o o \n",
      "o o o o o \n"
     ]
    }
   ],
   "source": [
    "n = 5\n",
    "for i in range(n):\n",
    "    for j in range(i+1):\n",
    "        print(\"o\", end=\" \")\n",
    "    print()"
   ]
  },
  {
   "cell_type": "code",
   "execution_count": 8,
   "metadata": {},
   "outputs": [],
   "source": [
    "def print_pattern(n):\n",
    "  \n",
    "    for i in range(n):\n",
    "        for j in range(i+1):\n",
    "            print(\"o\", end=\" \")\n",
    "        print()\n",
    "\n",
    "\n",
    "  "
   ]
  }
 ],
 "metadata": {
  "kernelspec": {
   "display_name": "Python 3",
   "language": "python",
   "name": "python3"
  },
  "language_info": {
   "codemirror_mode": {
    "name": "ipython",
    "version": 3
   },
   "file_extension": ".py",
   "mimetype": "text/x-python",
   "name": "python",
   "nbconvert_exporter": "python",
   "pygments_lexer": "ipython3",
   "version": "3.12.1"
  }
 },
 "nbformat": 4,
 "nbformat_minor": 2
}
